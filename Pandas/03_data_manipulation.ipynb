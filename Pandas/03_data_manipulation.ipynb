{
 "cells": [
  {
   "cell_type": "markdown",
   "metadata": {},
   "source": [
    "## Data Manipulation\n",
    "df.head(), df.tail(): Return the first or last n rows.  \n",
    "df.info(): Print a concise summary of a DataFrame.  \n",
    "df.describe(): Generate descriptive statistics.  \n",
    "df.shape: Get the dimensions of a DataFrame.  \n",
    "df.columns: Get the column labels of a DataFrame.  \n",
    "df.index: Get the index (row labels) of a DataFrame.  \n",
    "df.sort_values(): Sort by the values along an axis.  \n",
    "df.sort_index(): Sort by the index.  \n",
    "df.apply(): Apply a function along an axis of the DataFrame.  \n",
    "df.applymap(): Apply a function to a DataFrame elementwise.  \n",
    "df.groupby(): Group DataFrame using a mapper or by a Series of columns.  \n",
    "df.agg(): Aggregate using one or more operations over the specified axis.  \n",
    "df.merge(): Merge DataFrame or named Series objects with a database-style join.  \n",
    "df.join(): Join columns with other DataFrame.  \n",
    "df.concat(): Concatenate pandas objects along a particular axis.  \n",
    "df.pivot(): Return reshaped DataFrame organized by given index/column values.  \n",
    "df.pivot_table(): Create a spreadsheet-style pivot table as a DataFrame.  \n",
    "df.melt(): Unpivot a DataFrame from wide format to long format.  \n",
    "df.stack(): Stack the prescribed level(s) from columns to index.  \n",
    "df.unstack(): Pivot a level of the (necessarily hierarchical) index labels."
   ]
  },
  {
   "cell_type": "code",
   "execution_count": null,
   "metadata": {},
   "outputs": [],
   "source": []
  }
 ],
 "metadata": {
  "language_info": {
   "name": "python"
  }
 },
 "nbformat": 4,
 "nbformat_minor": 2
}

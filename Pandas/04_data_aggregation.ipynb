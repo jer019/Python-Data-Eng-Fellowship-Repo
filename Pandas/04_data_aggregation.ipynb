{
 "cells": [
  {
   "cell_type": "markdown",
   "metadata": {},
   "source": [
    "## Data Aggregation\n",
    "df.sum(): Return the sum of the values over the requested axis.  \n",
    "df.mean(): Return the mean of the values over the requested axis.  \n",
    "df.median(): Return the median of the values over the requested axis.  \n",
    "df.std(): Return sample standard deviation over requested axis.  \n",
    "df.var(): Return unbiased variance over requested axis.  \n",
    "df.min(), df.max(): Return the minimum or maximum of the values over the requested axis.  \n",
    "df.count(): Count the number of non-NA/null observations.  \n",
    "df.cumsum(): Return cumulative sum over a DataFrame or Series axis.  \n",
    "df.cumprod(): Return cumulative product over a DataFrame or Series axis."
   ]
  },
  {
   "cell_type": "code",
   "execution_count": null,
   "metadata": {},
   "outputs": [],
   "source": []
  }
 ],
 "metadata": {
  "language_info": {
   "name": "python"
  }
 },
 "nbformat": 4,
 "nbformat_minor": 2
}

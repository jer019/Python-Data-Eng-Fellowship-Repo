{
 "cells": [
  {
   "cell_type": "markdown",
   "metadata": {},
   "source": [
    "## Time Series\n",
    "\n",
    "pd.to_datetime(): Convert argument to datetime.  \n",
    "df['column'].dt: Accessor object for datetimelike properties of the Series values.  \n",
    "df['column'].resample(): Resample time-series data.  \n",
    "df.asfreq(): Convert TimeSeries to specified frequency.  \n",
    "df.shift(): Shift index by desired number of periods.  \n",
    "df.tshift(): Shift the time index, using the index’s frequency if available.  \n",
    "df.rolling(): Provide rolling window calculations.  \n",
    "df.expanding(): Provide expanding window calculations.  \n",
    "df.ewm(): Provide exponential weighted functions."
   ]
  },
  {
   "cell_type": "code",
   "execution_count": null,
   "metadata": {},
   "outputs": [],
   "source": []
  }
 ],
 "metadata": {
  "language_info": {
   "name": "python"
  }
 },
 "nbformat": 4,
 "nbformat_minor": 2
}

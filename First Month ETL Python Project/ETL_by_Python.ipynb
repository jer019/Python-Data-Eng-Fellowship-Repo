{
 "cells": [
  {
   "cell_type": "code",
   "execution_count": 36,
   "metadata": {},
   "outputs": [],
   "source": [
    "from bs4 import BeautifulSoup\n",
    "import requests as r\n",
    "import pandas as pd\n",
    "import numpy as np\n",
    "import matplotlib.pyplot as plt\n",
    "import seaborn as sns\n"
   ]
  },
  {
   "cell_type": "code",
   "execution_count": 8,
   "metadata": {},
   "outputs": [],
   "source": [
    "url='https://web.archive.org/web/20230908091635/https:/en.wikipedia.org/wiki/List_of_largest_banks'\n",
    "\n",
    "page=r.get(url)\n",
    "\n",
    "soup=BeautifulSoup(page.text,'html')"
   ]
  },
  {
   "cell_type": "code",
   "execution_count": 9,
   "metadata": {},
   "outputs": [
    {
     "name": "stdout",
     "output_type": "stream",
     "text": [
      "<html><head><meta charset=\"utf-8\"/><title>Internet Archive: Scheduled Maintenance</title><style>p{font-size:24px;}img{margin-bottom:2rem;}</style></head>\n",
      "<body style=\"padding:30px 0;\">\n",
      "<div style=\"float:left;width:260px;text-align:center;\">\n",
      "<img src=\"data:image/jpeg;base64,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\" xsrc=\"logo_ia.jpg\"/>\n",
      "<img src=\"data:image/png;base64,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\" xsrc=\"logo_wm.png\"/>\n",
      "<img src=\"data:image/png;base64,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\" xsrc=\"logo_ol.png\"/>\n",
      "<img src=\"data:image/png;base64,iVBORw0KGgoAAAANSUhEUgAAAJYAAACCBAMAAABWaCxcAAAAMFBMVEUAdcj////N4/RKndc4k9SizOsjh8+y1e7d7Pfy+PwNe8qDvOSSxOdzs+Bmq95cptuwcM7yAAADDUlEQVR42u2Zz27TQBDGZ0makPBHniS0OE1osATnVubEiYoXCG+QgsS5QeKePgBSw6239A3SK3AonJForyChwgu0j8Ds2saJ7dje9ajqwZ+sZD3Z/cmfPTteO1CqlJH+fgAuTREReHSOyAWro9IhMOjcY7WAQehrAoUlApYFhbUTsDagsPC/ZsBlkcEkJ8vncKRrbZE1Z7NY2CQin0lGFllkM3m8zGrzWSxksonIZlIwsqbIZxJjGrFZJJOMLOSzaMyqJrGGfBaxy2cRkZN1wWbRMCv2kll9PotGJ6yByGZSMLIiE7qQyciBVML9bXOLthcYh2zzu8bAC9w3Nxkfacy6HR8pTE2GAzvx0Lr5VYwnHCfr0HQ1WHSFuJvO6hlOoIdJE3RmOK+D4KvF+V2QtRjbMiyDVlINMl0qJZXZC32L4YPQiWFBnMZWN82xadXHHCp21zAyKfKwOnwWA5PZZZDNpGBkHSCfyVVjdiPxWW6L2SyLkWXrWwxZ2ieslp81z7SYn2VlWszPQk7WJMNiGkvT5LEOa0vXYsjSnEaNVJaeSZGblb14Gqey9EwiH6upyzpLOV26LKtk3USWdk5cXU+uss5HzZozSl+q6rD2IUOPM1iM7+BLlboZcl36qP36qXbuvZ9V3W1wn0PFfUEbvHHhpUtdVM9nQE36TJna/vz2/iu01qja4TqVj31BrSnKBbvt9Wypfq0crAF9xViow7rrQawGDaRS9vYsZFVkq0+sy8uAdTRF++PqUqgquBzVoza9Lg5ZFJXbAR14wFJdVrPsgNWih2KIsJp6rPbYZ7UBo6xuXYv1x9ppS1ZVIjYU69HvgLUpcE6sz5/ysCRFYJAT6s+gNWp6LPJMv8nr2NFkdeMsEbK+f/mheVx9xbKPllleAj7IwSJ5xGF47rVZ4Q3tFFS6R1nU3OtB/utYV8sNP5O+LrNo9ImlwRLKoL8Jyv3REgsNWZvqsWESZ1FUl4XROiFv6EMN1jcHwBnI7bWjXupd3ZG7T+GWcwr0QbF3jiO/qN8TGZlDqVLXpH9l9QF1iGaCHAAAAABJRU5ErkJggg==\" xsrc=\"logo_ait.png\"/>\n",
      "</div>\n",
      "<div style=\"overflow:hidden;width:500px;padding:0 30px\">\n",
      "<h1 style=\"margin-top:0\">Temporarily Offline</h1>\n",
      "<p>Internet Archive services are temporarily offline.</p>\n",
      "<p>Please check our <a href=\"https://twitter.com/internetarchive/\">Twitter feed</a> for the latest information.</p>\n",
      "<p>We apologize for the inconvenience.</p>\n",
      "</div></body></html>\n",
      "\n"
     ]
    }
   ],
   "source": [
    "print(soup)"
   ]
  },
  {
   "cell_type": "code",
   "execution_count": 21,
   "metadata": {},
   "outputs": [
    {
     "ename": "IndexError",
     "evalue": "list index out of range",
     "output_type": "error",
     "traceback": [
      "\u001b[1;31m---------------------------------------------------------------------------\u001b[0m",
      "\u001b[1;31mIndexError\u001b[0m                                Traceback (most recent call last)",
      "Cell \u001b[1;32mIn[21], line 1\u001b[0m\n\u001b[1;32m----> 1\u001b[0m table\u001b[38;5;241m=\u001b[39m\u001b[43msoup\u001b[49m\u001b[38;5;241;43m.\u001b[39;49m\u001b[43mfind_all\u001b[49m\u001b[43m(\u001b[49m\u001b[38;5;124;43m'\u001b[39;49m\u001b[38;5;124;43mtable\u001b[39;49m\u001b[38;5;124;43m'\u001b[39;49m\u001b[43m)\u001b[49m\u001b[43m[\u001b[49m\u001b[38;5;241;43m1\u001b[39;49m\u001b[43m]\u001b[49m\n",
      "\u001b[1;31mIndexError\u001b[0m: list index out of range"
     ]
    }
   ],
   "source": [
    "table=soup.find_all('table')[1]"
   ]
  },
  {
   "cell_type": "code",
   "execution_count": 22,
   "metadata": {},
   "outputs": [],
   "source": [
    "soup.find('table',class_='wikitable sortable mw-collapsible')"
   ]
  },
  {
   "cell_type": "code",
   "execution_count": 19,
   "metadata": {},
   "outputs": [
    {
     "ename": "NameError",
     "evalue": "name 'table' is not defined",
     "output_type": "error",
     "traceback": [
      "\u001b[1;31m---------------------------------------------------------------------------\u001b[0m",
      "\u001b[1;31mNameError\u001b[0m                                 Traceback (most recent call last)",
      "Cell \u001b[1;32mIn[19], line 1\u001b[0m\n\u001b[1;32m----> 1\u001b[0m \u001b[38;5;28mprint\u001b[39m(\u001b[43mtable\u001b[49m)\n",
      "\u001b[1;31mNameError\u001b[0m: name 'table' is not defined"
     ]
    }
   ],
   "source": [
    "print(table)"
   ]
  },
  {
   "cell_type": "code",
   "execution_count": 20,
   "metadata": {},
   "outputs": [
    {
     "ename": "NameError",
     "evalue": "name 'table' is not defined",
     "output_type": "error",
     "traceback": [
      "\u001b[1;31m---------------------------------------------------------------------------\u001b[0m",
      "\u001b[1;31mNameError\u001b[0m                                 Traceback (most recent call last)",
      "Cell \u001b[1;32mIn[20], line 1\u001b[0m\n\u001b[1;32m----> 1\u001b[0m table_titles\u001b[38;5;241m=\u001b[39m\u001b[43mtable\u001b[49m\u001b[38;5;241m.\u001b[39mfind_all(\u001b[38;5;124m'\u001b[39m\u001b[38;5;124mth\u001b[39m\u001b[38;5;124m'\u001b[39m)\n",
      "\u001b[1;31mNameError\u001b[0m: name 'table' is not defined"
     ]
    }
   ],
   "source": [
    "table_titles=table.find_all('th')"
   ]
  },
  {
   "cell_type": "code",
   "execution_count": 14,
   "metadata": {},
   "outputs": [
    {
     "ename": "NameError",
     "evalue": "name 'table_titles' is not defined",
     "output_type": "error",
     "traceback": [
      "\u001b[1;31m---------------------------------------------------------------------------\u001b[0m",
      "\u001b[1;31mNameError\u001b[0m                                 Traceback (most recent call last)",
      "Cell \u001b[1;32mIn[14], line 1\u001b[0m\n\u001b[1;32m----> 1\u001b[0m \u001b[38;5;28mprint\u001b[39m(\u001b[43mtable_titles\u001b[49m)\n",
      "\u001b[1;31mNameError\u001b[0m: name 'table_titles' is not defined"
     ]
    }
   ],
   "source": [
    "print(table_titles)"
   ]
  },
  {
   "cell_type": "code",
   "execution_count": 15,
   "metadata": {},
   "outputs": [
    {
     "ename": "NameError",
     "evalue": "name 'table_titles' is not defined",
     "output_type": "error",
     "traceback": [
      "\u001b[1;31m---------------------------------------------------------------------------\u001b[0m",
      "\u001b[1;31mNameError\u001b[0m                                 Traceback (most recent call last)",
      "Cell \u001b[1;32mIn[15], line 1\u001b[0m\n\u001b[1;32m----> 1\u001b[0m bank_table_titles\u001b[38;5;241m=\u001b[39m[title\u001b[38;5;241m.\u001b[39mtext\u001b[38;5;241m.\u001b[39mstrip() \u001b[38;5;28;01mfor\u001b[39;00m title \u001b[38;5;129;01min\u001b[39;00m \u001b[43mtable_titles\u001b[49m]\n\u001b[0;32m      3\u001b[0m \u001b[38;5;28mprint\u001b[39m(bank_table_titles)\n",
      "\u001b[1;31mNameError\u001b[0m: name 'table_titles' is not defined"
     ]
    }
   ],
   "source": [
    "bank_table_titles=[title.text.strip() for title in table_titles]\n",
    "\n",
    "print(bank_table_titles)"
   ]
  },
  {
   "cell_type": "code",
   "execution_count": 16,
   "metadata": {},
   "outputs": [
    {
     "ename": "NameError",
     "evalue": "name 'bank_table_titles' is not defined",
     "output_type": "error",
     "traceback": [
      "\u001b[1;31m---------------------------------------------------------------------------\u001b[0m",
      "\u001b[1;31mNameError\u001b[0m                                 Traceback (most recent call last)",
      "Cell \u001b[1;32mIn[16], line 1\u001b[0m\n\u001b[1;32m----> 1\u001b[0m df\u001b[38;5;241m=\u001b[39mpd\u001b[38;5;241m.\u001b[39mDataFrame(columns\u001b[38;5;241m=\u001b[39m\u001b[43mbank_table_titles\u001b[49m)\n\u001b[0;32m      3\u001b[0m df\n",
      "\u001b[1;31mNameError\u001b[0m: name 'bank_table_titles' is not defined"
     ]
    }
   ],
   "source": [
    "df=pd.DataFrame(columns=bank_table_titles)\n",
    "\n",
    "df"
   ]
  },
  {
   "cell_type": "code",
   "execution_count": 24,
   "metadata": {},
   "outputs": [],
   "source": [
    "column_data=table.find_all('tr')"
   ]
  },
  {
   "cell_type": "code",
   "execution_count": 27,
   "metadata": {},
   "outputs": [],
   "source": [
    "for row in column_data[1:]:\n",
    "    row_data=row.find_all('td')\n",
    "    indv_row_data=[data.text.strip() for data in row_data]\n",
    "    #print(indv_row_data)\n",
    "\n",
    "    Length=len(df)\n",
    "    df.loc[Length]=indv_row_data"
   ]
  },
  {
   "cell_type": "code",
   "execution_count": 28,
   "metadata": {},
   "outputs": [
    {
     "data": {
      "text/html": [
       "<div>\n",
       "<style scoped>\n",
       "    .dataframe tbody tr th:only-of-type {\n",
       "        vertical-align: middle;\n",
       "    }\n",
       "\n",
       "    .dataframe tbody tr th {\n",
       "        vertical-align: top;\n",
       "    }\n",
       "\n",
       "    .dataframe thead th {\n",
       "        text-align: right;\n",
       "    }\n",
       "</style>\n",
       "<table border=\"1\" class=\"dataframe\">\n",
       "  <thead>\n",
       "    <tr style=\"text-align: right;\">\n",
       "      <th></th>\n",
       "      <th>Rank</th>\n",
       "      <th>Bank name</th>\n",
       "      <th>Total assets(2022)(US$ billion)</th>\n",
       "    </tr>\n",
       "  </thead>\n",
       "  <tbody>\n",
       "    <tr>\n",
       "      <th>0</th>\n",
       "      <td>1</td>\n",
       "      <td>Industrial and Commercial Bank of China Limited</td>\n",
       "      <td>5,742.86</td>\n",
       "    </tr>\n",
       "    <tr>\n",
       "      <th>1</th>\n",
       "      <td>2</td>\n",
       "      <td>China Construction Bank</td>\n",
       "      <td>5,016.81</td>\n",
       "    </tr>\n",
       "    <tr>\n",
       "      <th>2</th>\n",
       "      <td>3</td>\n",
       "      <td>Agricultural Bank of China</td>\n",
       "      <td>4,919.03</td>\n",
       "    </tr>\n",
       "    <tr>\n",
       "      <th>3</th>\n",
       "      <td>4</td>\n",
       "      <td>Bank of China</td>\n",
       "      <td>4,192.12</td>\n",
       "    </tr>\n",
       "    <tr>\n",
       "      <th>4</th>\n",
       "      <td>5</td>\n",
       "      <td>JPMorgan Chase</td>\n",
       "      <td>3,868.24</td>\n",
       "    </tr>\n",
       "    <tr>\n",
       "      <th>...</th>\n",
       "      <td>...</td>\n",
       "      <td>...</td>\n",
       "      <td>...</td>\n",
       "    </tr>\n",
       "    <tr>\n",
       "      <th>95</th>\n",
       "      <td>96</td>\n",
       "      <td>National Bank of Canada</td>\n",
       "      <td>312.67</td>\n",
       "    </tr>\n",
       "    <tr>\n",
       "      <th>96</th>\n",
       "      <td>97</td>\n",
       "      <td>Macquarie Group</td>\n",
       "      <td>313.47</td>\n",
       "    </tr>\n",
       "    <tr>\n",
       "      <th>97</th>\n",
       "      <td>98</td>\n",
       "      <td>Nationwide Building Society</td>\n",
       "      <td>311.93</td>\n",
       "    </tr>\n",
       "    <tr>\n",
       "      <th>98</th>\n",
       "      <td>99</td>\n",
       "      <td>Raiffeisen Gruppe</td>\n",
       "      <td>303.50</td>\n",
       "    </tr>\n",
       "    <tr>\n",
       "      <th>99</th>\n",
       "      <td>100</td>\n",
       "      <td>First Abu Dhabi Bank</td>\n",
       "      <td>302.22</td>\n",
       "    </tr>\n",
       "  </tbody>\n",
       "</table>\n",
       "<p>100 rows × 3 columns</p>\n",
       "</div>"
      ],
      "text/plain": [
       "   Rank                                        Bank name  \\\n",
       "0     1  Industrial and Commercial Bank of China Limited   \n",
       "1     2                          China Construction Bank   \n",
       "2     3                       Agricultural Bank of China   \n",
       "3     4                                    Bank of China   \n",
       "4     5                                   JPMorgan Chase   \n",
       "..  ...                                              ...   \n",
       "95   96                          National Bank of Canada   \n",
       "96   97                                  Macquarie Group   \n",
       "97   98                      Nationwide Building Society   \n",
       "98   99                                Raiffeisen Gruppe   \n",
       "99  100                             First Abu Dhabi Bank   \n",
       "\n",
       "   Total assets(2022)(US$ billion)  \n",
       "0                         5,742.86  \n",
       "1                         5,016.81  \n",
       "2                         4,919.03  \n",
       "3                         4,192.12  \n",
       "4                         3,868.24  \n",
       "..                             ...  \n",
       "95                          312.67  \n",
       "96                          313.47  \n",
       "97                          311.93  \n",
       "98                          303.50  \n",
       "99                          302.22  \n",
       "\n",
       "[100 rows x 3 columns]"
      ]
     },
     "execution_count": 28,
     "metadata": {},
     "output_type": "execute_result"
    }
   ],
   "source": [
    "df"
   ]
  },
  {
   "cell_type": "code",
   "execution_count": 32,
   "metadata": {},
   "outputs": [],
   "source": [
    "df.to_csv(r'E:\\\\Bytewise\\\\First Month ETL project\\\\Bank_Rankings.csv',index=False)"
   ]
  },
  {
   "cell_type": "code",
   "execution_count": 48,
   "metadata": {},
   "outputs": [
    {
     "name": "stderr",
     "output_type": "stream",
     "text": [
      "<>:1: SyntaxWarning: invalid escape sequence '\\B'\n",
      "<>:1: SyntaxWarning: invalid escape sequence '\\B'\n",
      "C:\\Users\\H.H\\AppData\\Local\\Temp\\ipykernel_7916\\1751816340.py:1: SyntaxWarning: invalid escape sequence '\\B'\n",
      "  ds=pd.read_csv('E:\\Bytewise\\First Month ETL project\\Bank_Rankings.csv')\n"
     ]
    }
   ],
   "source": [
    "ds=pd.read_csv('E:\\Bytewise\\First Month ETL project\\Bank_Rankings.csv')"
   ]
  },
  {
   "cell_type": "code",
   "execution_count": 38,
   "metadata": {},
   "outputs": [
    {
     "data": {
      "text/html": [
       "<div>\n",
       "<style scoped>\n",
       "    .dataframe tbody tr th:only-of-type {\n",
       "        vertical-align: middle;\n",
       "    }\n",
       "\n",
       "    .dataframe tbody tr th {\n",
       "        vertical-align: top;\n",
       "    }\n",
       "\n",
       "    .dataframe thead th {\n",
       "        text-align: right;\n",
       "    }\n",
       "</style>\n",
       "<table border=\"1\" class=\"dataframe\">\n",
       "  <thead>\n",
       "    <tr style=\"text-align: right;\">\n",
       "      <th></th>\n",
       "      <th>Rank</th>\n",
       "      <th>Bank name</th>\n",
       "      <th>Total assets(2022)(US$ billion)</th>\n",
       "    </tr>\n",
       "  </thead>\n",
       "  <tbody>\n",
       "    <tr>\n",
       "      <th>0</th>\n",
       "      <td>1</td>\n",
       "      <td>Industrial and Commercial Bank of China Limited</td>\n",
       "      <td>5,742.86</td>\n",
       "    </tr>\n",
       "    <tr>\n",
       "      <th>1</th>\n",
       "      <td>2</td>\n",
       "      <td>China Construction Bank</td>\n",
       "      <td>5,016.81</td>\n",
       "    </tr>\n",
       "    <tr>\n",
       "      <th>2</th>\n",
       "      <td>3</td>\n",
       "      <td>Agricultural Bank of China</td>\n",
       "      <td>4,919.03</td>\n",
       "    </tr>\n",
       "    <tr>\n",
       "      <th>3</th>\n",
       "      <td>4</td>\n",
       "      <td>Bank of China</td>\n",
       "      <td>4,192.12</td>\n",
       "    </tr>\n",
       "    <tr>\n",
       "      <th>4</th>\n",
       "      <td>5</td>\n",
       "      <td>JPMorgan Chase</td>\n",
       "      <td>3,868.24</td>\n",
       "    </tr>\n",
       "  </tbody>\n",
       "</table>\n",
       "</div>"
      ],
      "text/plain": [
       "  Rank                                        Bank name  \\\n",
       "0    1  Industrial and Commercial Bank of China Limited   \n",
       "1    2                          China Construction Bank   \n",
       "2    3                       Agricultural Bank of China   \n",
       "3    4                                    Bank of China   \n",
       "4    5                                   JPMorgan Chase   \n",
       "\n",
       "  Total assets(2022)(US$ billion)  \n",
       "0                        5,742.86  \n",
       "1                        5,016.81  \n",
       "2                        4,919.03  \n",
       "3                        4,192.12  \n",
       "4                        3,868.24  "
      ]
     },
     "execution_count": 38,
     "metadata": {},
     "output_type": "execute_result"
    }
   ],
   "source": [
    "df.head()"
   ]
  },
  {
   "cell_type": "code",
   "execution_count": 39,
   "metadata": {},
   "outputs": [
    {
     "data": {
      "text/html": [
       "<div>\n",
       "<style scoped>\n",
       "    .dataframe tbody tr th:only-of-type {\n",
       "        vertical-align: middle;\n",
       "    }\n",
       "\n",
       "    .dataframe tbody tr th {\n",
       "        vertical-align: top;\n",
       "    }\n",
       "\n",
       "    .dataframe thead th {\n",
       "        text-align: right;\n",
       "    }\n",
       "</style>\n",
       "<table border=\"1\" class=\"dataframe\">\n",
       "  <thead>\n",
       "    <tr style=\"text-align: right;\">\n",
       "      <th></th>\n",
       "      <th>Rank</th>\n",
       "      <th>Bank name</th>\n",
       "      <th>Total assets(2022)(US$ billion)</th>\n",
       "    </tr>\n",
       "  </thead>\n",
       "  <tbody>\n",
       "    <tr>\n",
       "      <th>count</th>\n",
       "      <td>100</td>\n",
       "      <td>100</td>\n",
       "      <td>100</td>\n",
       "    </tr>\n",
       "    <tr>\n",
       "      <th>unique</th>\n",
       "      <td>100</td>\n",
       "      <td>100</td>\n",
       "      <td>100</td>\n",
       "    </tr>\n",
       "    <tr>\n",
       "      <th>top</th>\n",
       "      <td>1</td>\n",
       "      <td>Industrial and Commercial Bank of China Limited</td>\n",
       "      <td>5,742.86</td>\n",
       "    </tr>\n",
       "    <tr>\n",
       "      <th>freq</th>\n",
       "      <td>1</td>\n",
       "      <td>1</td>\n",
       "      <td>1</td>\n",
       "    </tr>\n",
       "  </tbody>\n",
       "</table>\n",
       "</div>"
      ],
      "text/plain": [
       "       Rank                                        Bank name  \\\n",
       "count   100                                              100   \n",
       "unique  100                                              100   \n",
       "top       1  Industrial and Commercial Bank of China Limited   \n",
       "freq      1                                                1   \n",
       "\n",
       "       Total assets(2022)(US$ billion)  \n",
       "count                              100  \n",
       "unique                             100  \n",
       "top                           5,742.86  \n",
       "freq                                 1  "
      ]
     },
     "execution_count": 39,
     "metadata": {},
     "output_type": "execute_result"
    }
   ],
   "source": [
    "df.describe()"
   ]
  },
  {
   "cell_type": "code",
   "execution_count": 40,
   "metadata": {},
   "outputs": [],
   "source": [
    "import sqlite3"
   ]
  },
  {
   "cell_type": "code",
   "execution_count": 42,
   "metadata": {},
   "outputs": [
    {
     "data": {
      "text/plain": [
       "Rank                               0\n",
       "Bank name                          0\n",
       "Total assets(2022)(US$ billion)    0\n",
       "dtype: int64"
      ]
     },
     "execution_count": 42,
     "metadata": {},
     "output_type": "execute_result"
    }
   ],
   "source": [
    "df.isnull().sum()"
   ]
  },
  {
   "cell_type": "code",
   "execution_count": 43,
   "metadata": {},
   "outputs": [
    {
     "data": {
      "text/plain": [
       "Index(['Rank', 'Bank name', 'Total assets(2022)(US$ billion)'], dtype='object')"
      ]
     },
     "execution_count": 43,
     "metadata": {},
     "output_type": "execute_result"
    }
   ],
   "source": [
    "df.columns"
   ]
  },
  {
   "cell_type": "code",
   "execution_count": 49,
   "metadata": {},
   "outputs": [],
   "source": [
    "ds['Total assets(2022)(US$ billion)'] = ds['Total assets(2022)(US$ billion)'].str.replace(',', '')\n",
    "#ds['Total assets(2022)(US$ billion)'] = ds['Total assets(2022)(US$ billion)'].str.replace('-', '')\n"
   ]
  },
  {
   "cell_type": "code",
   "execution_count": 50,
   "metadata": {},
   "outputs": [],
   "source": [
    "ds['Total assets(2022)(US$ billion)'] = ds['Total assets(2022)(US$ billion)'].astype(float)\n"
   ]
  },
  {
   "cell_type": "code",
   "execution_count": 51,
   "metadata": {},
   "outputs": [
    {
     "data": {
      "image/png": "[encoded data removed]",
      "text/plain": [
       "<Figure size 1000x600 with 1 Axes>"
      ]
     },
     "metadata": {},
     "output_type": "display_data"
    }
   ],
   "source": [
    "# Example visualization: Top 10 countries by population\n",
    "top_10 =ds.nlargest(10, 'Total assets(2022)(US$ billion)')\n",
    "\n",
    "plt.figure(figsize=(10, 6))\n",
    "plt.barh(top_10['Bank name'], top_10['Total assets(2022)(US$ billion)'])\n",
    "plt.xlabel('Total assets(2022)(US$ billion)')\n",
    "plt.ylabel('Banks')\n",
    "plt.title('Top 10 Banks by assets as of 2022')\n",
    "plt.show()"
   ]
  },
  {
   "cell_type": "code",
   "execution_count": 52,
   "metadata": {},
   "outputs": [
    {
     "name": "stdout",
     "output_type": "stream",
     "text": [
      "<class 'pandas.core.frame.DataFrame'>\n",
      "RangeIndex: 100 entries, 0 to 99\n",
      "Data columns (total 3 columns):\n",
      " #   Column                           Non-Null Count  Dtype  \n",
      "---  ------                           --------------  -----  \n",
      " 0   Rank                             100 non-null    int64  \n",
      " 1   Bank name                        100 non-null    object \n",
      " 2   Total assets(2022)(US$ billion)  100 non-null    float64\n",
      "dtypes: float64(1), int64(1), object(1)\n",
      "memory usage: 2.5+ KB\n"
     ]
    }
   ],
   "source": [
    "ds.info()"
   ]
  },
  {
   "cell_type": "code",
   "execution_count": 54,
   "metadata": {},
   "outputs": [
    {
     "name": "stderr",
     "output_type": "stream",
     "text": [
      "C:\\Users\\H.H\\AppData\\Local\\Temp\\ipykernel_7916\\1417487351.py:9: FutureWarning: \n",
      "\n",
      "Passing `palette` without assigning `hue` is deprecated and will be removed in v0.14.0. Assign the `x` variable to `hue` and set `legend=False` for the same effect.\n",
      "\n",
      "  sns.countplot(x='Asset Class', data=ds, palette='viridis')\n"
     ]
    },
    {
     "data": {
      "image/png": "[encoded data removed]",
      "text/plain": [
       "<Figure size 1000x600 with 1 Axes>"
      ]
     },
     "metadata": {},
     "output_type": "display_data"
    }
   ],
   "source": [
    "bins = [0, 1000, 2000, 3000, 4000,5000,6000]  \n",
    "labels = ['0-1000', '1000-2000', '2000-3000', '3000-4000','4000-5000','5000-6000']\n",
    "\n",
    "# Cut the data into bins\n",
    "ds['Asset Class'] = pd.cut(ds['Total assets(2022)(US$ billion)'], bins=bins, labels=labels, right=False)\n",
    "\n",
    "# Plot the frequency graph\n",
    "plt.figure(figsize=(10, 6))\n",
    "sns.countplot(x='Asset Class', data=ds, palette='viridis')\n",
    "plt.title('Frequency of Banks by Asset Ranges')\n",
    "plt.xlabel('Asset Range (Billion $)')\n",
    "plt.ylabel('Number of Banks')\n",
    "plt.show()\n"
   ]
  },
  {
   "cell_type": "code",
   "execution_count": null,
   "metadata": {},
   "outputs": [],
   "source": []
  }
 ],
 "metadata": {
  "kernelspec": {
   "display_name": "Python 3",
   "language": "python",
   "name": "python3"
  },
  "language_info": {
   "codemirror_mode": {
    "name": "ipython",
    "version": 3
   },
   "file_extension": ".py",
   "mimetype": "text/x-python",
   "name": "python",
   "nbconvert_exporter": "python",
   "pygments_lexer": "ipython3",
   "version": "3.12.3"
  }
 },
 "nbformat": 4,
 "nbformat_minor": 2
}

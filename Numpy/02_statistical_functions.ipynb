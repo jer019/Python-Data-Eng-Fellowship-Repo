{
 "cells": [
  {
   "cell_type": "code",
   "execution_count": 1,
   "metadata": {},
   "outputs": [],
   "source": [
    "import numpy as np"
   ]
  },
  {
   "cell_type": "markdown",
   "metadata": {},
   "source": [
    "## Statistical Functions\n",
    "np.mean(): Compute the arithmetic mean.  \n",
    "np.median(): Compute the median.  \n",
    "np.std(): Compute the standard deviation.  \n",
    "np.var(): Compute the variance.  \n",
    "np.min(), np.max(): Find the minimum and maximum values.  \n",
    "np.argmin(), np.argmax(): Find the indices of the minimum and maximum values.  \n",
    "np.percentile(): Compute the nth percentile of the data.  \n",
    "np.histogram(): Compute the histogram of a set of data.  \n"
   ]
  },
  {
   "cell_type": "code",
   "execution_count": 6,
   "metadata": {},
   "outputs": [
    {
     "name": "stdout",
     "output_type": "stream",
     "text": [
      "\n",
      "Given values are:\n",
      "[ 2  3  5  6  9  1 23  1 99 19  0 55 43]\n",
      "\n",
      "Mean of the given values:\n",
      "20.46153846153846\n",
      "\n",
      "Median of the given values:\n",
      "6.0\n",
      "\n",
      "Standard deviation of given values:\n",
      "28.119567193888276\n",
      "\n",
      "Varience of the given values:\n",
      "790.7100591715978\n",
      "\n",
      "Smallest/Min value of the given values:\n",
      "0\n",
      "\n",
      "Indices of the minnimum values:\n",
      "10\n",
      "\n",
      "Largest/Max values of the given values:\n",
      "99\n",
      "\n",
      "Indices of the maximum values:\n",
      "8\n",
      "\n",
      "25th Percentile of te values:\n",
      "2.0\n",
      "\n",
      "Histogram of the given values:\n",
      "(array([8, 1, 1, 0, 1, 1, 0, 0, 0, 1], dtype=int64), array([ 0. ,  9.9, 19.8, 29.7, 39.6, 49.5, 59.4, 69.3, 79.2, 89.1, 99. ]))\n"
     ]
    }
   ],
   "source": [
    "values=np.array([2,3,5,6,9,1,23,1,99,19,0,55,43])\n",
    "\n",
    "print(\"\\nGiven values are:\")\n",
    "print(values)\n",
    "\n",
    "print(\"\\nMean of the given values:\")\n",
    "print(np.mean(values))\n",
    "\n",
    "print(\"\\nMedian of the given values:\")\n",
    "print(np.median(values))\n",
    "\n",
    "print(\"\\nStandard deviation of given values:\")\n",
    "print(np.std(values))\n",
    "\n",
    "print(\"\\nVarience of the given values:\")\n",
    "print(np.var(values))\n",
    "\n",
    "print(\"\\nSmallest/Min value of the given values:\")\n",
    "print(np.min(values))\n",
    "\n",
    "print(\"\\nIndices of the minnimum values:\")\n",
    "print(np.argmin(values))\n",
    "\n",
    "print(\"\\nLargest/Max values of the given values:\")\n",
    "print(np.max(values))\n",
    "\n",
    "print(\"\\nIndices of the maximum values:\")\n",
    "print(np.argmax(values))\n",
    "\n",
    "print(\"\\n25th Percentile of te values:\")\n",
    "print(np.percentile(values,25))\n",
    "\n",
    "print(\"\\nHistogram of the given values:\")\n",
    "print(np.histogram(values))\n",
    "\n",
    "\n"
   ]
  }
 ],
 "metadata": {
  "kernelspec": {
   "display_name": "Python 3",
   "language": "python",
   "name": "python3"
  },
  "language_info": {
   "codemirror_mode": {
    "name": "ipython",
    "version": 3
   },
   "file_extension": ".py",
   "mimetype": "text/x-python",
   "name": "python",
   "nbconvert_exporter": "python",
   "pygments_lexer": "ipython3",
   "version": "3.12.3"
  }
 },
 "nbformat": 4,
 "nbformat_minor": 2
}

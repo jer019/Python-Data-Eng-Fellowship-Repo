{
 "cells": [
  {
   "cell_type": "code",
   "execution_count": 1,
   "metadata": {},
   "outputs": [],
   "source": [
    "import numpy as np"
   ]
  },
  {
   "cell_type": "markdown",
   "metadata": {},
   "source": [
    "## Array creation and initialization  \n",
    "\n",
    "np.array(): Create an array from a list or tuple.  \n",
    "np.zeros(): Create an array filled with zeros.  \n",
    "np.ones(): Create an array filled with ones.  \n",
    "np.empty(): Create an uninitialized array.  \n",
    "np.full(): Create an array filled with a specified value.  \n",
    "np.arange(): Create an array with a range of values.  \n",
    "np.linspace(): Create an array with linearly spaced values.  \n",
    "np.logspace(): Create an array with logarithmically spaced values.  \n",
    "np.eye(): Create an identity matrix.  \n",
    "np.random.rand(): Create an array with random values uniformly distributed between 0 and 1.  \n",
    "np.random.randn(): Create an array with random values from a standard normal distribution.  "
   ]
  },
  {
   "cell_type": "code",
   "execution_count": 19,
   "metadata": {},
   "outputs": [
    {
     "name": "stdout",
     "output_type": "stream",
     "text": [
      "Numpy array with user defined values:\n",
      "[1 2 3 4]\n",
      "\n",
      "Array with all zeros: \n",
      "[0 0]\n",
      "\n",
      "Array with all ones: \n",
      "[1 1]\n",
      "\n",
      "Unintialized array: \n",
      "[4.24399158e-314 8.48798317e-314]\n",
      "\n",
      "Array filled with \n",
      "[2 2 2 2 2 2 2 2 2 2]\n",
      "\n",
      "Array with a range of values: \n",
      "[0. 1. 2. 3.]\n",
      "\n",
      "Array with linearly spaced values:\n",
      "[1.         1.02040816 1.04081633 1.06122449 1.08163265 1.10204082\n",
      " 1.12244898 1.14285714 1.16326531 1.18367347 1.20408163 1.2244898\n",
      " 1.24489796 1.26530612 1.28571429 1.30612245 1.32653061 1.34693878\n",
      " 1.36734694 1.3877551  1.40816327 1.42857143 1.44897959 1.46938776\n",
      " 1.48979592 1.51020408 1.53061224 1.55102041 1.57142857 1.59183673\n",
      " 1.6122449  1.63265306 1.65306122 1.67346939 1.69387755 1.71428571\n",
      " 1.73469388 1.75510204 1.7755102  1.79591837 1.81632653 1.83673469\n",
      " 1.85714286 1.87755102 1.89795918 1.91836735 1.93877551 1.95918367\n",
      " 1.97959184 2.        ]\n",
      "Array with logarithmically spaced values:\n",
      "[-2147483648 -2147483648 -2147483648 -2147483648 -2147483648 -2147483648\n",
      " -2147483648 -2147483648 -2147483648 -2147483648 -2147483648 -2147483648\n",
      " -2147483648 -2147483648 -2147483648 -2147483648 -2147483648 -2147483648\n",
      " -2147483648 -2147483648 -2147483648 -2147483648 -2147483648 -2147483648\n",
      " -2147483648 -2147483648 -2147483648 -2147483648 -2147483648 -2147483648\n",
      " -2147483648 -2147483648 -2147483648 -2147483648 -2147483648 -2147483648\n",
      " -2147483648 -2147483648 -2147483648 -2147483648 -2147483648 -2147483648\n",
      " -2147483648 -2147483648 -2147483648 -2147483648 -2147483648 -2147483648\n",
      " -2147483648 -2147483648]\n",
      "Array as an identity matrix:\n",
      "[[0. 0. 0.]\n",
      " [0. 0. 0.]]\n",
      "Array with random values distributed between 0 and 1:\n",
      "[0.7845637  0.74116398 0.97657641 0.45469612]\n",
      "Array having random values from a standard normal distribution:\n",
      "[-1.99671265  0.93628838 -0.60324811 -1.00002002]\n"
     ]
    },
    {
     "name": "stderr",
     "output_type": "stream",
     "text": [
      "c:\\Users\\H.H\\AppData\\Local\\Programs\\Python\\Python312\\Lib\\site-packages\\numpy\\core\\function_base.py:299: RuntimeWarning: invalid value encountered in cast\n",
      "  return _nx.power(base, y).astype(dtype, copy=False)\n"
     ]
    }
   ],
   "source": [
    "print(\"Numpy array with user defined values:\")\n",
    "array=np.array([1,2,3,4])\n",
    "print(array)\n",
    "\n",
    "print(\"\\nArray with all zeros: \")\n",
    "z_arr=np.zeros(2,dtype=np.int_)\n",
    "print(z_arr)\n",
    "\n",
    "print(\"\\nArray with all ones: \")\n",
    "o_arr=np.ones(2,dtype=np.int_)\n",
    "print(o_arr)\n",
    "\n",
    "print(\"\\nUninitialized array: \")\n",
    "e_arr=np.empty(2,dtype=np.float_)\n",
    "print(e_arr)\n",
    "\n",
    "print(\"\\nArray filled with \")\n",
    "f_arr=np.full(10,2)\n",
    "print(f_arr)\n",
    "\n",
    "print(\"\\nArray with a range of values: \")\n",
    "a_arr=np.arange(4,dtype=np.float_)\n",
    "print(a_arr)\n",
    "\n",
    "print(\"\\nArray with linearly spaced values:\")\n",
    "ls_arr=np.linspace(1,2,dtype=np.float_)\n",
    "print(ls_arr)\n",
    "\n",
    "print(\"Array with logarithmically spaced values:\")\n",
    "log_arr=np.logspace(19,25,dtype=np.int_)\n",
    "print(log_arr)\n",
    "\n",
    "print(\"Array as an identity matrix:\")\n",
    "i_arr=np.eye(2,3,5)\n",
    "print(i_arr)\n",
    "\n",
    "print(\"Array with random values distributed between 0 and 1:\")\n",
    "r_arr=np.random.rand(4)\n",
    "print(r_arr)\n",
    "\n",
    "print(\"Array having random values from a standard normal distribution:\")\n",
    "rr_arr=np.random.randn(4)\n",
    "print(rr_arr)\n",
    "\n",
    "\n",
    "\n"
   ]
  },
  {
   "cell_type": "markdown",
   "metadata": {},
   "source": [
    "## Basic Arithmetic Operations"
   ]
  },
  {
   "cell_type": "markdown",
   "metadata": {},
   "source": [
    "np.add(), np.subtract(), np.multiply(), np.divide(): Basic arithmetic operations."
   ]
  },
  {
   "cell_type": "code",
   "execution_count": 5,
   "metadata": {},
   "outputs": [
    {
     "name": "stdout",
     "output_type": "stream",
     "text": [
      "First Array: \n",
      "[[0 1]\n",
      " [2 3]]\n",
      "\n",
      "Second Array: \n",
      "[4 4]\n",
      "\n",
      "Adding two arrays: \n",
      "[[4 5]\n",
      " [6 7]]\n",
      "\n",
      "Subtracting two arrays: \n",
      "[[-4 -3]\n",
      " [-2 -1]]\n",
      "\n",
      "Muliplying two ararys: \n",
      "[[ 0  4]\n",
      " [ 8 12]]\n",
      "\n",
      "Dividing two arrays: \n",
      "[[0.   0.25]\n",
      " [0.5  0.75]]\n"
     ]
    }
   ],
   "source": [
    "array1=np.arange(4,dtype=np.int_).reshape(2,2)\n",
    "\n",
    "print(\"First Array: \")\n",
    "print(array1)\n",
    "\n",
    "array2=np.array([4,4])\n",
    "\n",
    "print(\"\\nSecond Array: \")\n",
    "print(array2)\n",
    "\n",
    "print(\"\\nAdding two arrays: \")\n",
    "print(np.add(array1,array2))\n",
    "\n",
    "print(\"\\nSubtracting two arrays: \")\n",
    "print(np.subtract(array1,array2))\n",
    "\n",
    "print(\"\\nMuliplying two ararys: \")\n",
    "print(np.multiply(array1,array2))\n",
    "\n",
    "print(\"\\nDividing two arrays: \")\n",
    "print(np.divide(array1,array2))"
   ]
  },
  {
   "cell_type": "markdown",
   "metadata": {},
   "source": [
    "## Reciprocal Function"
   ]
  },
  {
   "cell_type": "markdown",
   "metadata": {},
   "source": [
    "np.reciprocal(): Return the reciprocal of the elements in an array."
   ]
  },
  {
   "cell_type": "code",
   "execution_count": 7,
   "metadata": {},
   "outputs": [
    {
     "name": "stdout",
     "output_type": "stream",
     "text": [
      "Original array is: \n",
      "[ 19.5   20.     1.34 101.9 ]\n",
      "\n",
      "Array after reciprocal:\n",
      "[0.05128205 0.05       0.74626866 0.00981354]\n",
      "\n",
      "Another array: \n",
      "[20]\n",
      "\n",
      "After applying reciprocal function: \n",
      "[0]\n"
     ]
    }
   ],
   "source": [
    "arr1=np.array([19.5,20,1.34,101.9])\n",
    "\n",
    "print(\"Original array is: \")\n",
    "print(arr1)\n",
    "\n",
    "print(\"\\nArray after reciprocal:\")\n",
    "print(np.reciprocal(arr1))\n",
    "\n",
    "print(\"\\nAnother array: \")\n",
    "arr2=np.array([20])\n",
    "print(arr2)\n",
    "\n",
    "print(\"\\nAfter applying reciprocal function: \")\n",
    "print(np.reciprocal(arr2))"
   ]
  },
  {
   "cell_type": "markdown",
   "metadata": {},
   "source": [
    "## Power Functions"
   ]
  },
  {
   "cell_type": "markdown",
   "metadata": {},
   "source": [
    "np.power(): Raise elements of an array to a power.  \n",
    "np.sqrt(): Compute the square root of each element in an array.  \n",
    "np.exp(): Calculate the exponential of all elements in the input array."
   ]
  },
  {
   "cell_type": "code",
   "execution_count": 21,
   "metadata": {},
   "outputs": [
    {
     "name": "stdout",
     "output_type": "stream",
     "text": [
      "Given Array: \n",
      "[23 19 99]\n",
      "\n",
      "Array after applying power function: \n",
      "[ 529  361 9801]\n",
      "\n",
      "Second array is:\n",
      "[1 2 3]\n",
      "After applying power function again: \n",
      "[    23    361 970299]\n",
      "\n",
      "Taking square root of array1: \n",
      "[4.79583152 4.35889894 9.94987437]\n",
      "\n",
      "Square root of array2: \n",
      "[1.         1.41421356 1.73205081]\n",
      "\n",
      "Computing exponential of array1 elements:\n",
      "[9.74480345e+09 1.78482301e+08 9.88903032e+42]\n"
     ]
    }
   ],
   "source": [
    "arr01=np.array([23,19,99])\n",
    "\n",
    "print(\"Given Array: \")\n",
    "print(arr01)\n",
    "\n",
    "print(\"\\nArray after applying power function: \")\n",
    "print(np.power(arr01,2))\n",
    "\n",
    "print(\"\\nSecond array is:\")\n",
    "arr02=np.array([1,2,3])\n",
    "print(arr02)\n",
    "\n",
    "print(\"After applying power function again: \")\n",
    "print(np.power(arr01,arr02))\n",
    "\n",
    "\n",
    "print(\"\\nTaking square root of array1: \")\n",
    "print(np.sqrt(arr01))\n",
    "\n",
    "print(\"\\nSquare root of array2: \")\n",
    "print(np.sqrt(arr02))\n",
    "\n",
    "print(\"\\nComputing exponential of array1 elements:\")\n",
    "print(np.exp(arr01))\n",
    "\n"
   ]
  },
  {
   "cell_type": "markdown",
   "metadata": {},
   "source": [
    "## Mod or Remainder Function"
   ]
  },
  {
   "cell_type": "markdown",
   "metadata": {},
   "source": [
    "np.mod() and np.remainder(): Return element-wise remainder of division."
   ]
  },
  {
   "cell_type": "code",
   "execution_count": 10,
   "metadata": {},
   "outputs": [
    {
     "name": "stdout",
     "output_type": "stream",
     "text": [
      "\n",
      "First array: \n",
      "[2 3 6]\n",
      "\n",
      "Second array: \n",
      "[ 4  7 13]\n",
      "\n",
      "After applying mod function: \n",
      "[2 3 6]\n",
      "\n",
      "After applying remainder function: \n",
      "[2 3 6]\n"
     ]
    }
   ],
   "source": [
    "arr3=np.array([2,3,6])\n",
    "arr4=np.array([4,7,13])\n",
    "\n",
    "print(\"\\nFirst array: \")\n",
    "print(arr3)\n",
    "\n",
    "print(\"\\nSecond array: \")\n",
    "print(arr4)\n",
    "\n",
    "print(\"\\nAfter applying mod function: \")\n",
    "print(np.mod(arr3,arr4))\n",
    "\n",
    "print(\"\\nAfter applying remainder function: \")\n",
    "print(np.remainder(arr3,arr4))"
   ]
  },
  {
   "cell_type": "markdown",
   "metadata": {},
   "source": [
    "## Log Functions\n",
    "\n",
    "np.log(), np.log10(), np.log2(): Natural, base 10, and base 2 logarithms."
   ]
  },
  {
   "cell_type": "code",
   "execution_count": 23,
   "metadata": {},
   "outputs": [
    {
     "name": "stdout",
     "output_type": "stream",
     "text": [
      "\n",
      "Given array:\n",
      "[ 2 34  5]\n",
      "\n",
      "Array after applying log: \n",
      "[0.69314718 3.52636052 1.60943791]\n",
      "\n",
      "Array after applying log10:\n",
      "[0.30103    1.53147892 0.69897   ]\n",
      "\n",
      "Array after applying log2:\n",
      "[1.         5.08746284 2.32192809]\n"
     ]
    }
   ],
   "source": [
    "arrr=np.array([2,34,5])\n",
    "\n",
    "print(\"\\nGiven array:\")\n",
    "print(arrr)\n",
    "\n",
    "print(\"\\nArray after applying log: \")\n",
    "print(np.log(arrr))\n",
    "\n",
    "print(\"\\nArray after applying log10:\")\n",
    "print(np.log10(arrr))\n",
    "\n",
    "print(\"\\nArray after applying log2:\")\n",
    "print(np.log2(arrr))\n"
   ]
  },
  {
   "cell_type": "markdown",
   "metadata": {},
   "source": [
    "## Trignometric & Inverse Trignometric Functions\n",
    "\n",
    "\n",
    "np.sin(), np.cos(), np.tan(): Trigonometric functions.  \n",
    "np.arcsin(), np.arccos(), np.arctan(): Inverse trigonometric functions."
   ]
  },
  {
   "cell_type": "code",
   "execution_count": 24,
   "metadata": {},
   "outputs": [
    {
     "name": "stdout",
     "output_type": "stream",
     "text": [
      "\n",
      "Given array:\n",
      "[1 2 4 3]\n",
      "\n",
      "Array after applying Sin function:\n",
      "[ 0.84147098  0.90929743 -0.7568025   0.14112001]\n",
      "\n",
      "Array after applying Cos function:\n",
      "[ 0.54030231 -0.41614684 -0.65364362 -0.9899925 ]\n",
      "\n",
      "Array after applying Tan function:\n",
      "[ 1.55740772 -2.18503986  1.15782128 -0.14254654]\n",
      "\n",
      "Array after applying Inverse Sin function:\n",
      "[1.57079633        nan        nan        nan]\n",
      "\n",
      "Array after applying Inverse Cos function:\n",
      "[ 0. nan nan nan]\n",
      "\n",
      "Array after applying Inverse Tan function:\n",
      "[0.78539816 1.10714872 1.32581766 1.24904577]\n"
     ]
    },
    {
     "name": "stderr",
     "output_type": "stream",
     "text": [
      "C:\\Users\\H.H\\AppData\\Local\\Temp\\ipykernel_15540\\624673579.py:16: RuntimeWarning: invalid value encountered in arcsin\n",
      "  print(np.arcsin(array01))\n",
      "C:\\Users\\H.H\\AppData\\Local\\Temp\\ipykernel_15540\\624673579.py:19: RuntimeWarning: invalid value encountered in arccos\n",
      "  print(np.arccos(array01))\n"
     ]
    }
   ],
   "source": [
    "array01=np.array([1,2,4,3])\n",
    "\n",
    "print(\"\\nGiven array:\")\n",
    "print(array01)\n",
    "\n",
    "print(\"\\nArray after applying Sin function:\")\n",
    "print(np.sin(array01))\n",
    "\n",
    "print(\"\\nArray after applying Cos function:\")\n",
    "print(np.cos(array01))\n",
    "\n",
    "print(\"\\nArray after applying Tan function:\")\n",
    "print(np.tan(array01))\n",
    "\n",
    "print(\"\\nArray after applying Inverse Sin function:\")\n",
    "print(np.arcsin(array01))\n",
    "\n",
    "print(\"\\nArray after applying Inverse Cos function:\")\n",
    "print(np.arccos(array01))\n",
    "\n",
    "print(\"\\nArray after applying Inverse Tan function:\")\n",
    "print(np.arctan(array01))\n"
   ]
  },
  {
   "cell_type": "markdown",
   "metadata": {},
   "source": [
    "## Hyperbolic & Inverse Hyperbolic Functions\n",
    "\n",
    "np.sinh(), np.cosh(), np.tanh(): Hyperbolic functions.  \n",
    "np.arcsinh(), np.arccosh(), np.arctanh(): Inverse hyperbolic functions."
   ]
  },
  {
   "cell_type": "code",
   "execution_count": 25,
   "metadata": {},
   "outputs": [
    {
     "name": "stdout",
     "output_type": "stream",
     "text": [
      "\n",
      "Given array:\n",
      "[1 2 4 3]\n",
      "\n",
      "Array after applying Sinh function:\n",
      "[ 1.17520119  3.62686041 27.2899172  10.01787493]\n",
      "\n",
      "Array after applying Cosh function:\n",
      "[ 1.54308063  3.76219569 27.30823284 10.067662  ]\n",
      "\n",
      "Array after applying Tanh function:\n",
      "[0.76159416 0.96402758 0.9993293  0.99505475]\n",
      "\n",
      "Array after applying Inverse Sinh function:\n",
      "[0.88137359 1.44363548 2.09471255 1.81844646]\n",
      "\n",
      "Array after applying Inverse Cosh function:\n",
      "[0.         1.3169579  2.06343707 1.76274717]\n",
      "\n",
      "Array after applying Inverse Tanh function:\n",
      "[inf nan nan nan]\n"
     ]
    },
    {
     "name": "stderr",
     "output_type": "stream",
     "text": [
      "C:\\Users\\H.H\\AppData\\Local\\Temp\\ipykernel_15540\\83568105.py:22: RuntimeWarning: divide by zero encountered in arctanh\n",
      "  print(np.arctanh(array01))\n",
      "C:\\Users\\H.H\\AppData\\Local\\Temp\\ipykernel_15540\\83568105.py:22: RuntimeWarning: invalid value encountered in arctanh\n",
      "  print(np.arctanh(array01))\n"
     ]
    }
   ],
   "source": [
    "array01=np.array([1,2,4,3])\n",
    "\n",
    "print(\"\\nGiven array:\")\n",
    "print(array01)\n",
    "\n",
    "print(\"\\nArray after applying Sinh function:\")\n",
    "print(np.sinh(array01))\n",
    "\n",
    "print(\"\\nArray after applying Cosh function:\")\n",
    "print(np.cosh(array01))\n",
    "\n",
    "print(\"\\nArray after applying Tanh function:\")\n",
    "print(np.tanh(array01))\n",
    "\n",
    "print(\"\\nArray after applying Inverse Sinh function:\")\n",
    "print(np.arcsinh(array01))\n",
    "\n",
    "print(\"\\nArray after applying Inverse Cosh function:\")\n",
    "print(np.arccosh(array01))\n",
    "\n",
    "print(\"\\nArray after applying Inverse Tanh function:\")\n",
    "print(np.arctanh(array01))"
   ]
  },
  {
   "cell_type": "code",
   "execution_count": null,
   "metadata": {},
   "outputs": [],
   "source": []
  }
 ],
 "metadata": {
  "kernelspec": {
   "display_name": "Python 3",
   "language": "python",
   "name": "python3"
  },
  "language_info": {
   "codemirror_mode": {
    "name": "ipython",
    "version": 3
   },
   "file_extension": ".py",
   "mimetype": "text/x-python",
   "name": "python",
   "nbconvert_exporter": "python",
   "pygments_lexer": "ipython3",
   "version": "3.12.3"
  }
 },
 "nbformat": 4,
 "nbformat_minor": 2
}

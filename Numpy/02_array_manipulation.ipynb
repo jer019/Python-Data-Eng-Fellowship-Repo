{
 "cells": [
  {
   "cell_type": "code",
   "execution_count": 2,
   "metadata": {},
   "outputs": [],
   "source": [
    "import numpy as np"
   ]
  },
  {
   "cell_type": "markdown",
   "metadata": {},
   "source": [
    "## Changing Shapes of Arrays\n",
    "\n",
    "np.reshape(): Change the shape of an array without changing its data.  \n",
    "np.flatten(): Flatten a multi-dimensional array into a one-dimensional array.  \n",
    "np.transpose(): Transpose the dimensions of an array.  \n",
    "np.swapaxes(): Swap two axes of an array.  "
   ]
  },
  {
   "cell_type": "code",
   "execution_count": 3,
   "metadata": {},
   "outputs": [
    {
     "name": "stdout",
     "output_type": "stream",
     "text": [
      "\n",
      "Given matrix:\n",
      "[[1 2 3]\n",
      " [4 5 6]\n",
      " [7 8 9]]\n",
      "\n",
      "After reshaping the given array:\n",
      "[[1 2 3]\n",
      " [4 5 6]\n",
      " [7 8 9]]\n",
      "\n",
      "After flattening the given array:\n",
      "[1 2 3 4 5 6 7 8 9]\n",
      "\n",
      "After transposing the given array:\n",
      "[[1 4 7]\n",
      " [2 5 8]\n",
      " [3 6 9]]\n",
      "\n",
      "After swapping two axes of the given:\n",
      "[[1 4 7]\n",
      " [2 5 8]\n",
      " [3 6 9]]\n"
     ]
    }
   ],
   "source": [
    "matrix=np.array([[1,2,3],[4,5,6],[7,8,9]])\n",
    "\n",
    "print(\"\\nGiven matrix:\")\n",
    "print(matrix)\n",
    "\n",
    "print(\"\\nAfter reshaping the given array:\")\n",
    "print(np.reshape(matrix,(3,3)))\n",
    "\n",
    "print(\"\\nAfter flattening the given array:\")\n",
    "print(matrix.flatten())\n",
    "\n",
    "print(\"\\nAfter transposing the given array:\")\n",
    "print(np.transpose(matrix))\n",
    "\n",
    "print(\"\\nAfter swapping two axes of the given:\")\n",
    "print(np.swapaxes(matrix,axis1=0,axis2=1))"
   ]
  },
  {
   "cell_type": "markdown",
   "metadata": {},
   "source": [
    "## Concatenate & Copy\n",
    "\n",
    "np.concatenate(): Join two or more arrays along an axis.  \n",
    "np.copy(): Return an array copy.  "
   ]
  },
  {
   "cell_type": "code",
   "execution_count": 5,
   "metadata": {},
   "outputs": [
    {
     "name": "stdout",
     "output_type": "stream",
     "text": [
      "\n",
      "Given array 1:\n",
      "[[1 2 3]\n",
      " [4 5 6]\n",
      " [7 8 9]]\n",
      "\n",
      "Given array 2:\n",
      "[[9 8 7]\n",
      " [6 5 4]\n",
      " [3 2 1]]\n",
      "\n",
      "Given array after concatenation:\n",
      "[[1 2 3 9 8 7]\n",
      " [4 5 6 6 5 4]\n",
      " [7 8 9 3 2 1]]\n",
      "\n",
      "Copying given array 1:\n",
      "[[1 2 3]\n",
      " [4 5 6]\n",
      " [7 8 9]]\n"
     ]
    }
   ],
   "source": [
    "mat1=np.array([[1,2,3],[4,5,6],[7,8,9]])\n",
    "mat2=np.array([[9,8,7],[6,5,4],[3,2,1]])\n",
    "\n",
    "print(\"\\nGiven array 1:\")\n",
    "print(mat1)\n",
    "\n",
    "print(\"\\nGiven array 2:\")\n",
    "print(mat2)\n",
    "\n",
    "print(\"\\nGiven array after concatenation:\")\n",
    "print(np.concatenate((mat1,mat2),axis=1))\n",
    "\n",
    "print(\"\\nCopying given array 1:\")\n",
    "print(np.copy(mat1))"
   ]
  },
  {
   "cell_type": "markdown",
   "metadata": {},
   "source": [
    "## Stacking in Arrays\n",
    "\n",
    "np.stack(): Stack arrays along a new axis.  \n",
    "np.hstack(): Stack arrays horizontally (column-wise).  \n",
    "np.vstack(): Stack arrays vertically (row-wise). "
   ]
  },
  {
   "cell_type": "code",
   "execution_count": 10,
   "metadata": {},
   "outputs": [
    {
     "name": "stdout",
     "output_type": "stream",
     "text": [
      "\n",
      "Given array 1:\n",
      "[[1 2 3]\n",
      " [4 5 6]\n",
      " [7 8 9]]\n",
      "\n",
      "Given array 2:\n",
      "[[9 8 7]\n",
      " [6 5 4]\n",
      " [3 2 1]]\n",
      "\n",
      "Arrays after stacking along new axis:\n",
      "[[[1 2 3]\n",
      "  [9 8 7]]\n",
      "\n",
      " [[4 5 6]\n",
      "  [6 5 4]]\n",
      "\n",
      " [[7 8 9]\n",
      "  [3 2 1]]]\n",
      "\n",
      "Array 1 after stcking horzontally:\n",
      "[1 2 3 4 5 6 7 8 9]\n",
      "\n",
      "Array 1 after stcking vertically:\n",
      "[[1 2 3]\n",
      " [4 5 6]\n",
      " [7 8 9]]\n"
     ]
    }
   ],
   "source": [
    "mat1=np.array([[1,2,3],[4,5,6],[7,8,9]])\n",
    "mat2=np.array([[9,8,7],[6,5,4],[3,2,1]])\n",
    "\n",
    "print(\"\\nGiven array 1:\")\n",
    "print(mat1)\n",
    "\n",
    "print(\"\\nGiven array 2:\")\n",
    "print(mat2)\n",
    "\n",
    "print(\"\\nArrays after stacking along new axis:\")\n",
    "print(np.stack((mat1,mat2),axis=1))\n",
    "\n",
    "print(\"\\nArray 1 after stcking horzontally:\")\n",
    "print(np.hstack(mat1))\n",
    "\n",
    "print(\"\\nArray 1 after stcking vertically:\")\n",
    "print(np.vstack(mat1))\n"
   ]
  },
  {
   "cell_type": "markdown",
   "metadata": {},
   "source": [
    "## Array Splitting\n",
    " \n",
    "np.split(): Split an array into multiple sub-arrays.  \n",
    "np.hsplit(): Split an array horizontally.  \n",
    "np.vsplit(): Split an array vertically.  \n"
   ]
  },
  {
   "cell_type": "code",
   "execution_count": 23,
   "metadata": {},
   "outputs": [
    {
     "name": "stdout",
     "output_type": "stream",
     "text": [
      "\n",
      "Given array:\n",
      "[[1 2 3]\n",
      " [4 5 6]\n",
      " [7 8 9]]\n",
      "\n",
      "Given array after splitting into sub-arrays:\n",
      "[array([[1, 2, 3]]), array([[4, 5, 6]]), array([[7, 8, 9]])]\n",
      "\n",
      "Array after splitting horizontally:\n",
      "[array([[1],\n",
      "       [4],\n",
      "       [7]]), array([[2],\n",
      "       [5],\n",
      "       [8]]), array([[3],\n",
      "       [6],\n",
      "       [9]])]\n",
      "\n",
      "Array after splitting vertically:\n",
      "[array([[1, 2, 3]]), array([[4, 5, 6]]), array([[7, 8, 9]])]\n"
     ]
    }
   ],
   "source": [
    "mat1=np.array([[1,2,3],[4,5,6],[7,8,9]])\n",
    "\n",
    "print(\"\\nGiven array:\")\n",
    "print(mat1)\n",
    "\n",
    "print(\"\\nGiven array after splitting into sub-arrays:\")\n",
    "print(np.split(mat1,3,axis=0))\n",
    "\n",
    "print(\"\\nArray after splitting horizontally:\")\n",
    "print(np.hsplit(mat1,3))\n",
    "\n",
    "print(\"\\nArray after splitting vertically:\")\n",
    "print(np.vsplit(mat1,3))"
   ]
  },
  {
   "cell_type": "code",
   "execution_count": null,
   "metadata": {},
   "outputs": [],
   "source": []
  }
 ],
 "metadata": {
  "kernelspec": {
   "display_name": "Python 3",
   "language": "python",
   "name": "python3"
  },
  "language_info": {
   "codemirror_mode": {
    "name": "ipython",
    "version": 3
   },
   "file_extension": ".py",
   "mimetype": "text/x-python",
   "name": "python",
   "nbconvert_exporter": "python",
   "pygments_lexer": "ipython3",
   "version": "3.12.3"
  }
 },
 "nbformat": 4,
 "nbformat_minor": 2
}

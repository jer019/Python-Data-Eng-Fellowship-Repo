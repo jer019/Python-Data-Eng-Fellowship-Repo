{
 "cells": [
  {
   "cell_type": "code",
   "execution_count": 1,
   "metadata": {},
   "outputs": [],
   "source": [
    "import numpy as np"
   ]
  },
  {
   "cell_type": "markdown",
   "metadata": {},
   "source": [
    "## Random Numbers\n",
    "np.random.seed(): Seed the random number generator.  \n",
    "np.random.rand(): Generate an array of random values.  \n",
    "np.random.randint(): Generate random integers.  \n",
    "np.random.normal(): Draw random samples from a normal (Gaussian) distribution.  \n",
    "np.random.uniform(): Draw random samples from a uniform distribution.  \n",
    "np.random.choice(): Generate a random sample from a given 1-D array.  "
   ]
  },
  {
   "cell_type": "code",
   "execution_count": 12,
   "metadata": {},
   "outputs": [
    {
     "name": "stdout",
     "output_type": "stream",
     "text": [
      "\n",
      "Generating random numbers:\n",
      "[0.37454012 0.95071431 0.73199394 0.59865848 0.15601864 0.15599452\n",
      " 0.05808361 0.86617615 0.60111501]\n",
      "\n",
      "Generating random integers:\n",
      "[5 4 3]\n",
      "\n",
      "Generating random samples fron normal distribution:\n",
      "[-0.58087813 -0.52516981]\n",
      "\n",
      "Generating random samples of uniform distribution:\n",
      "[0.18340451 0.30424224 0.52475643]\n",
      "\n",
      "Generating a random sample from a 1D array:\n",
      "0.6011150117432088\n"
     ]
    }
   ],
   "source": [
    "np.random.seed(42)\n",
    "random_array=np.random.rand(9)\n",
    "\n",
    "print(\"\\nGenerating random numbers:\")\n",
    "print(random_array)\n",
    "\n",
    "print(\"\\nGenerating random integers:\")\n",
    "print(np.random.randint(3,6,3))\n",
    "\n",
    "print(\"\\nGenerating random samples fron normal distribution:\")\n",
    "print(np.random.normal(0,1,2))\n",
    "\n",
    "print(\"\\nGenerating random samples of uniform distribution:\")\n",
    "print(np.random.uniform(0,1,3))\n",
    "\n",
    "print(\"\\nGenerating a random sample from a 1D array:\")\n",
    "print(np.random.choice(random_array))"
   ]
  },
  {
   "cell_type": "code",
   "execution_count": null,
   "metadata": {},
   "outputs": [],
   "source": []
  }
 ],
 "metadata": {
  "kernelspec": {
   "display_name": "Python 3",
   "language": "python",
   "name": "python3"
  },
  "language_info": {
   "codemirror_mode": {
    "name": "ipython",
    "version": 3
   },
   "file_extension": ".py",
   "mimetype": "text/x-python",
   "name": "python",
   "nbconvert_exporter": "python",
   "pygments_lexer": "ipython3",
   "version": "3.12.3"
  }
 },
 "nbformat": 4,
 "nbformat_minor": 2
}

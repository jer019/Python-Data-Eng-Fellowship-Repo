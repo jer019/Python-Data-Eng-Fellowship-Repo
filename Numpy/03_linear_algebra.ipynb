{
 "cells": [
  {
   "cell_type": "code",
   "execution_count": 2,
   "metadata": {},
   "outputs": [],
   "source": [
    "import numpy as np"
   ]
  },
  {
   "cell_type": "markdown",
   "metadata": {},
   "source": [
    "## Linear Algebra\n",
    "np.dot(): Dot product of two arrays.  \n",
    "np.vdot(): Dot product of two vectors.  \n",
    "np.inner(): Inner product of two arrays.  \n",
    "np.outer(): Outer product of two arrays.  \n",
    "np.matmul(): Matrix product of two arrays.  \n",
    "np.linalg.inv(): Compute the inverse of a matrix.  \n",
    "np.linalg.det(): Compute the determinant of a matrix.  \n",
    "np.linalg.eig(): Compute the eigenvalues and right eigenvectors of a square array.  \n",
    "np.linalg.svd(): Singular Value Decomposition.  \n",
    "np.linalg.solve(): Solve a linear matrix equation, or system of linear scalar equations.  \n",
    "np.linalg.norm(): Matrix or vector norm.  "
   ]
  },
  {
   "cell_type": "code",
   "execution_count": 4,
   "metadata": {},
   "outputs": [
    {
     "name": "stdout",
     "output_type": "stream",
     "text": [
      "\n",
      "Given matrix 1:\n",
      "[[1 2 3]\n",
      " [4 5 6]\n",
      " [7 8 9]]\n",
      "\n",
      "Given matrix 2:\n",
      "[[9 8 7]\n",
      " [6 5 4]\n",
      " [3 2 1]]\n",
      "\n",
      "Dot product of given arrays:\n",
      "247\n",
      "\n",
      "Dot product of two vectors:\n",
      "247\n",
      "\n",
      "Inner product of two arrays:\n",
      "247\n",
      "\n",
      "Outer product of two arrays:\n",
      "[[ 26  44  38   0  10  18]\n",
      " [ 65 110  95   0  25  45]\n",
      " [ 39  66  57   0  15  27]\n",
      " [ 91 154 133   0  35  63]\n",
      " [117 198 171   0  45  81]\n",
      " [ 13  22  19   0   5   9]]\n",
      "\n",
      "Matrix product of two arrays:\n",
      "[[ 30  24  18]\n",
      " [ 84  69  54]\n",
      " [138 114  90]]\n",
      "\n",
      "Inverse of the given matrix 1:\n",
      "[[-2.   1. ]\n",
      " [ 1.5 -0.5]]\n"
     ]
    }
   ],
   "source": [
    "arr1=np.array([2,5,3,7,9,1])\n",
    "arr2=np.array([13,22,19,0,5,9])\n",
    "\n",
    "mat1=np.array([[1,2,3],[4,5,6],[7,8,9]])\n",
    "mat2=np.array([[9,8,7],[6,5,4],[3,2,1]])\n",
    "mat3=np.array([[1,2],[3,4]])\n",
    "\n",
    "print(\"\\nGiven matrix 1:\")\n",
    "print(mat1)\n",
    "\n",
    "print(\"\\nGiven matrix 2:\")\n",
    "print(mat2)\n",
    "\n",
    "print(\"\\nDot product of given arrays:\")\n",
    "print(np.dot(arr1,arr2))\n",
    "\n",
    "print(\"\\nDot product of two vectors:\")\n",
    "print(np.vdot(arr1,arr2))\n",
    "\n",
    "print(\"\\nInner product of two arrays:\")\n",
    "print(np.inner(arr1,arr2))\n",
    "\n",
    "print(\"\\nOuter product of two arrays:\")\n",
    "print(np.outer(arr1,arr2))\n",
    "\n",
    "print(\"\\nMatrix product of two arrays:\")\n",
    "print(np.matmul(mat1,mat2))\n",
    "\n",
    "print(\"\\nInverse of the given matrix 1:\")\n",
    "print(np.linalg.inv(mat3))\n"
   ]
  },
  {
   "cell_type": "code",
   "execution_count": null,
   "metadata": {},
   "outputs": [],
   "source": []
  }
 ],
 "metadata": {
  "kernelspec": {
   "display_name": "Python 3",
   "language": "python",
   "name": "python3"
  },
  "language_info": {
   "codemirror_mode": {
    "name": "ipython",
    "version": 3
   },
   "file_extension": ".py",
   "mimetype": "text/x-python",
   "name": "python",
   "nbconvert_exporter": "python",
   "pygments_lexer": "ipython3",
   "version": "3.12.3"
  }
 },
 "nbformat": 4,
 "nbformat_minor": 2
}
